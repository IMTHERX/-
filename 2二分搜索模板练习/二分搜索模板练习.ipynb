{
 "cells": [
  {
   "cell_type": "markdown",
   "metadata": {},
   "source": [
    "练习3：在旋转有序数列中，查找最小值。 -2018/9/11\n",
    "\n",
    "难度：2\n",
    "\n",
    "说明：假设有一个升序排序的数列在某个未知节点处被前后调换，请找到数列中的最小值。"
   ]
  },
  {
   "cell_type": "code",
   "execution_count": 13,
   "metadata": {},
   "outputs": [],
   "source": [
    "#解决思路1：进行排序 sort，寻找第0个元素。  - O(n lg n)\n",
    "def searchlazy(alist):\n",
    "    alist.sort()\n",
    "    return alist[0]\n",
    "\n",
    "#解决思路2：使用min 。  - O(n)\n",
    "def searchlow(alist):\n",
    "    mmin = alist[0]\n",
    "    for i in alist:\n",
    "        mmin = min(mmin,i)\n",
    "    return mmin\n",
    "'''解决思路：   - T(n) = T(n/2) + 1 = O(lgn)\n",
    "[1] 从list中寻找中间数M。\n",
    "L = 3  M = 6  R=2'''\n",
    "def search(alist):\n",
    "    '''排除空列表的情况'''\n",
    "    if len(alist) == 0:\n",
    "        return -1\n",
    "    ''''''\n",
    "    left,right = 0,len(alist) - 1\n",
    "    while left + 1 < right:\n",
    "        '''L<R的情况，说明整个数组都是排好序的，则它没有任何一点进行旋转，那么就直接返回L。\n",
    "        如：alist=12345'''\n",
    "        if(alist[left] < alist[right]):\n",
    "            return alist[left];\n",
    "        '''mid为中间值'''\n",
    "        mid = left + (right - left) // 2\n",
    "        '''如果M>=L,则说明L,M是顺序的，例如23451，拐点则在M,R之间。\n",
    "        重新设定L为M+1'''\n",
    "        if(alist[mid] >= alist[left]):\n",
    "            left = mid + 1\n",
    "        '''如果M<L，则说明M,R是顺序的，例如45123，拐点在L，M之间，\n",
    "        重新设定R为M，因为M本身可能就是答案，则M包括本身'''\n",
    "        else:\n",
    "            right = mid\n",
    "    '''最终2个数进行比较，将符合的数提交。'''        \n",
    "    return alist[left] if alist[left] < alist[right] else alist[right] "
   ]
  },
  {
   "cell_type": "code",
   "execution_count": 14,
   "metadata": {},
   "outputs": [
    {
     "name": "stdout",
     "output_type": "stream",
     "text": [
      "1\n",
      "1\n",
      "1\n"
     ]
    }
   ],
   "source": [
    "alist = [3,4,5,6,7,1,2]\n",
    "print(searchlazy(alist))\n",
    "print(searchlow(alist))\n",
    "print(search(alist))\n"
   ]
  },
  {
   "cell_type": "markdown",
   "metadata": {},
   "source": [
    "练习5：搜索插入位置 -2018/9/13\n",
    "\n",
    "难度：3\n",
    "\n",
    "说明：给定有序数组，如果找到此目标则返回目标的index，没找到则插入数组中，并返回目标index。（数组中不包含重复数）"
   ]
  },
  {
   "cell_type": "code",
   "execution_count": 36,
   "metadata": {},
   "outputs": [],
   "source": [
    "def search_insert_position(alist,target):\n",
    "    '''做一个判断，如果数组为空，则返回0'''\n",
    "    if len(alist) == 0:\n",
    "        return 0\n",
    "    '''设定初始值，[left,right] = [0,index(n)]'''\n",
    "    left,right = 0,len(alist)-1\n",
    "    '''排除诸如 [1,2] 只有2个数组 的情况'''\n",
    "    while left + 1 < right:\n",
    "        '''寻找中间值'''\n",
    "        mid = left + (right - left) // 2\n",
    "        '''判断mid是否与target相同，如果相同则返回index(min)'''\n",
    "        if alist[mid] == target:\n",
    "            return mid\n",
    "        '''如果mid比target小，则说明我需要寻找的目标“第一个大于target”的值在右边范围'''\n",
    "        if (alist[mid] < target):\n",
    "            left = mid\n",
    "        #'''反之亦然'''\n",
    "        else:\n",
    "            right = mid\n",
    "        '''兜底操作，判断L是否为≥target的第一个数，如果不是，则判断第二个'''\n",
    "    if alist[left] >= target:\n",
    "        '''这是一个错误点，需要注意，想要返回的是index(left)，不是alist[left],既alist[0]的值，1'''\n",
    "        #return alist[left] \n",
    "        return left\n",
    "    if alist[right] >= target:\n",
    "        return right\n",
    "    '''否则将target加在数组最后'''\n",
    "    return right + 1\n",
    "   "
   ]
  },
  {
   "cell_type": "code",
   "execution_count": 39,
   "metadata": {},
   "outputs": [
    {
     "name": "stdout",
     "output_type": "stream",
     "text": [
      "0\n",
      "1\n",
      "2\n",
      "3\n",
      "4\n"
     ]
    }
   ],
   "source": [
    "alist=[1,3,5,7]\n",
    "print(search_insert_position(alist,0))\n",
    "alist=[1,3,5,7]\n",
    "print(search_insert_position(alist,2))\n",
    "alist=[1,3,5,7]\n",
    "print(search_insert_position(alist,4))\n",
    "alist=[1,3,5,7]\n",
    "print(search_insert_position(alist,6))\n",
    "alist=[1,3,5,7]\n",
    "print(search_insert_position(alist,8))"
   ]
  }
 ],
 "metadata": {
  "kernelspec": {
   "display_name": "Python 3",
   "language": "python",
   "name": "python3"
  },
  "language_info": {
   "codemirror_mode": {
    "name": "ipython",
    "version": 3
   },
   "file_extension": ".py",
   "mimetype": "text/x-python",
   "name": "python",
   "nbconvert_exporter": "python",
   "pygments_lexer": "ipython3",
   "version": "3.6.3"
  }
 },
 "nbformat": 4,
 "nbformat_minor": 2
}
